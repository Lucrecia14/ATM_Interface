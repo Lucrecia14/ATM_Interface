{
  "nbformat": 4,
  "nbformat_minor": 0,
  "metadata": {
    "colab": {
      "name": "BASIC ATM MACHINE PROJECT.ipynb",
      "provenance": [],
      "collapsed_sections": []
    },
    "kernelspec": {
      "name": "python3",
      "display_name": "Python 3"
    },
    "language_info": {
      "name": "python"
    }
  },
  "cells": [
    {
      "cell_type": "code",
      "execution_count": null,
      "metadata": {
        "id": "Dlr8BMGTei-P"
      },
      "outputs": [],
      "source": [
        "# BASIC ATM MACHINE PROJECT"
      ]
    },
    {
      "cell_type": "markdown",
      "source": [
        "1. Print a main menu:\n",
        "Welcome to Northern Frock\n",
        "2. 1 - Display balance\n",
        "3. 2 - Withdraw funds\n",
        "4. 3 - Deposit funds\n",
        "5. 9 - Return card\n",
        "Enter an option:\n",
        "6. If ‘1’ is entered, display the current balance and the maximum amount available for withdrawal (must be a multiple of £10), and return to main menu.\n",
        "7. If ‘2’ is entered, print a sub-menu with withdrawal amounts of:\n",
        "Please select withdrawal amount\n",
        "8. 1 - £10\n",
        "9. 2 - £20\n",
        "10. 3 - £40\n",
        "11. 4 - £60\n",
        "12. 5 - £80\n",
        "13. 6 - £100\n",
        "14. 7 - Other amount\n",
        "15. 8 - Return to main menu\n",
        "Enter an option:\n",
        "a. If ‘1 to 6’’ is selected check that the requested withdrawal is allowed, print a message to show that the money has been withdrawn, calculate the new balance and return to main menu.\n",
        "b. If ‘7’ is selected, then prompt the user for an integer value. Check this number is a multiple of 10 and that the withdrawal is permitted, print a message to show that the money has been withdrawn, calculate the new balance and return to main menu.\n",
        "c. If ‘8’ is selected return to main menu.\n",
        "16. If ‘3’ is entered, provide another menu that will allow the user to enter an amount to deposit (does not need to be a multiple of £10), return to main menu or return card. If funds are deposited, provide appropriate feedback and update the balance and return to main menu.\n",
        "17. If ‘9’ is entered, print a goodbye message and exit (break).\n",
        "18. If another value is entered, print an error message and print the menu again."
      ],
      "metadata": {
        "id": "UqXFnfbxeksF"
      }
    },
    {
      "cell_type": "markdown",
      "source": [
        ""
      ],
      "metadata": {
        "id": "ZkaFF7st9J9L"
      }
    },
    {
      "cell_type": "code",
      "source": [
        "import pandas as pd\n",
        "import numpy as np"
      ],
      "metadata": {
        "id": "5onwY4LDoFA6"
      },
      "execution_count": 1,
      "outputs": []
    },
    {
      "cell_type": "code",
      "source": [
        "print('Welcome to Northern Frock')\n",
        "withdraw_amount = pd.Series(['£10','£20','£40','£60','£80','£100','other amount','Return to main menu'],[1,2,3,4,5,6,7,8])\n",
        "menu = pd.Series(['Display Balance','Wthdraw Funds','Deposit Funds','Return Card'],[1,2,3,9])\n",
        "print(menu)\n",
        "while True:\n",
        "  option = int(input(\"Enter an option: \"))\n",
        "  if option==1:\n",
        "      print('Current Balance:£100')\n",
        "      print('Available balance:£90')\n",
        "      break\n",
        "print(menu)\n",
        "option = int(input(\"Enter an option: \"))\n",
        "if option ==2:\n",
        "      print('please select withdraw amount:\\n')\n",
        "      print(withdraw_amount)\n",
        "option = int(input(\"Enter an option: \"))\n",
        "if option >=1 and option < 7:\n",
        "    print('please take your cash')\n",
        "Available_balance = 90\n",
        "amount = [10,20,40,60,80,100]\n",
        "new_balance = Available_balance - amount[2]\n",
        "print('Available Balance:','£',(new_balance))\n",
        "print('please select withdraw amount:\\n')\n",
        "print(withdraw_amount)\n",
        "option = int(input(\"Enter an option: \"))\n",
        "if option == 7:\n",
        "  other_amount = int(input(\"Enter other amount: \"))\n",
        "  if other_amount%10 == 0 and other_amount <=100:\n",
        "     print('please take your cash')\n",
        "     new_balance2 = new_balance - other_amount\n",
        "     print('Available Balance:','£',(new_balance2))\n",
        "print(menu)\n",
        "option = int(input(\"Enter an option: \"))\n",
        "if option == 3:\n",
        "  deposit_amount = int(input(\"Enter amount to deposit: \"))\n",
        "  new_balance3 = Available_balance + deposit_amount\n",
        "  print('Cash deposited successfully!')\n",
        "  print('Available Balance:','£',(new_balance3))\n",
        "  print(menu)\n",
        "option = int(input(\"Enter an option: \"))\n",
        "if option == 9:\n",
        "  print('Thank you for Banking with us, bye for now')\n",
        "else:\n",
        "  print('sorry! wrong input')\n",
        "  print(menu)\n",
        "  \n",
        "  \n",
        "\n",
        "\n",
        "\n",
        "  \n",
        "  \n",
        "  \n",
        "\n",
        "\n",
        "                            \n",
        "\n",
        "\n",
        "\n",
        "\n"
      ],
      "metadata": {
        "colab": {
          "base_uri": "https://localhost:8080/"
        },
        "id": "z7t5JY0oe1Wo",
        "outputId": "0543f3e1-85e3-4693-8d2d-ee1e69f445a8"
      },
      "execution_count": 3,
      "outputs": [
        {
          "output_type": "stream",
          "name": "stdout",
          "text": [
            "Welcome to Northern Frock\n",
            "1    Display Balance\n",
            "2      Wthdraw Funds\n",
            "3      Deposit Funds\n",
            "9        Return Card\n",
            "dtype: object\n",
            "Enter an option: 1\n",
            "Current Balance:£100\n",
            "Available balance:£90\n",
            "1    Display Balance\n",
            "2      Wthdraw Funds\n",
            "3      Deposit Funds\n",
            "9        Return Card\n",
            "dtype: object\n",
            "Enter an option: 2\n",
            "please select withdraw amount:\n",
            "\n",
            "1                    £10\n",
            "2                    £20\n",
            "3                    £40\n",
            "4                    £60\n",
            "5                    £80\n",
            "6                   £100\n",
            "7           other amount\n",
            "8    Return to main menu\n",
            "dtype: object\n",
            "Enter an option: 3\n",
            "please take your cash\n",
            "Available Balance: £ 50\n",
            "please select withdraw amount:\n",
            "\n",
            "1                    £10\n",
            "2                    £20\n",
            "3                    £40\n",
            "4                    £60\n",
            "5                    £80\n",
            "6                   £100\n",
            "7           other amount\n",
            "8    Return to main menu\n",
            "dtype: object\n",
            "Enter an option: 7\n",
            "Enter other amount: 30\n",
            "please take your cash\n",
            "Available Balance: £ 20\n",
            "1    Display Balance\n",
            "2      Wthdraw Funds\n",
            "3      Deposit Funds\n",
            "9        Return Card\n",
            "dtype: object\n",
            "Enter an option: 3\n",
            "Enter amount to deposit: 100\n",
            "Cash deposited successfully!\n",
            "Available Balance: £ 190\n",
            "1    Display Balance\n",
            "2      Wthdraw Funds\n",
            "3      Deposit Funds\n",
            "9        Return Card\n",
            "dtype: object\n",
            "Enter an option: 9\n",
            "Thank you for Banking with us, bye for now\n"
          ]
        }
      ]
    },
    {
      "cell_type": "code",
      "source": [
        ""
      ],
      "metadata": {
        "id": "JqXJOKPemEwg"
      },
      "execution_count": null,
      "outputs": []
    }
  ]
}